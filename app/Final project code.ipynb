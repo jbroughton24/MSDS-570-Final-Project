{
 "cells": [
  {
   "cell_type": "code",
   "execution_count": 1,
   "id": "c84486cf-c994-41d6-b285-2c2bfbc23bcc",
   "metadata": {},
   "outputs": [],
   "source": [
    "import dash\n",
    "from dash import dcc, html\n",
    "from dash.dependencies import Input, Output\n",
    "import plotly.express as px\n",
    "import pandas as pd"
   ]
  },
  {
   "cell_type": "code",
   "execution_count": 3,
   "id": "bfa5e2e3-7a4e-4821-83ca-7c1ad47e7512",
   "metadata": {},
   "outputs": [],
   "source": [
    "file_path = 'heart.csv'\n",
    "data = pd.read_csv(file_path)"
   ]
  },
  {
   "cell_type": "code",
   "execution_count": 4,
   "id": "6531d120-bec2-4b0c-aa13-e6fa8d19413e",
   "metadata": {},
   "outputs": [],
   "source": [
    "app = dash.Dash(__name__)"
   ]
  },
  {
   "cell_type": "code",
   "execution_count": 5,
   "id": "dfa8654c-0eb1-4fdc-8615-c22a45879b07",
   "metadata": {},
   "outputs": [],
   "source": [
    "app.layout = html.Div([\n",
    "    html.H1(\"Heart Disease Data Dashboard\", style={'textAlign': 'center'}),\n",
    "    \n",
    "    html.Div([\n",
    "        html.Label(\"Filter by Age Range:\"),\n",
    "        dcc.RangeSlider(\n",
    "            id='age-slider',\n",
    "            min=data['age'].min(),\n",
    "            max=data['age'].max(),\n",
    "            step=1,\n",
    "            marks={i: str(i) for i in range(data['age'].min(), data['age'].max()+1, 5)},\n",
    "            value=[data['age'].min(), data['age'].max()]\n",
    "        ),\n",
    "    ], style={'margin': '20px'}),\n",
    "    \n",
    "    html.Div([\n",
    "        html.Label(\"Filter by Sex:\"),\n",
    "        dcc.Dropdown(\n",
    "            id='sex-dropdown',\n",
    "            options=[\n",
    "                {'label': 'Male', 'value': 1},\n",
    "                {'label': 'Female', 'value': 0}\n",
    "            ],\n",
    "            value=None,\n",
    "            placeholder=\"Select a gender\"\n",
    "        )\n",
    "    ], style={'margin': '20px'}),\n",
    "    \n",
    "    html.Div([\n",
    "        html.Label(\"Filter by Target (Heart Disease):\"),\n",
    "        dcc.Dropdown(\n",
    "            id='target-dropdown',\n",
    "            options=[\n",
    "                {'label': 'Disease', 'value': 1},\n",
    "                {'label': 'No Disease', 'value': 0}\n",
    "            ],\n",
    "            value=None,\n",
    "            placeholder=\"Select a target outcome\"\n",
    "        )\n",
    "    ], style={'margin': '20px'}),\n",
    "    \n",
    "    dcc.Graph(id='scatter-plot', style={'height': '600px'}),\n",
    "    \n",
    "    dcc.Graph(id='histogram', style={'height': '600px'}),\n",
    "])\n"
   ]
  },
  {
   "cell_type": "code",
   "execution_count": 7,
   "id": "c69880c5-3c3f-401e-8e61-9270ee4de8b9",
   "metadata": {},
   "outputs": [],
   "source": [
    "@app.callback(\n",
    "    [Output('scatter-plot', 'figure'),\n",
    "     Output('histogram', 'figure')],\n",
    "    [Input('age-slider', 'value'),\n",
    "     Input('sex-dropdown', 'value'),\n",
    "     Input('target-dropdown', 'value')]\n",
    ")\n",
    "def update_graphs(age_range, sex, target):\n",
    "    # Filter data based on inputs\n",
    "    filtered_data = data[\n",
    "        (data['age'] >= age_range[0]) & (data['age'] <= age_range[1])\n",
    "    ]\n",
    "    if sex is not None:\n",
    "        filtered_data = filtered_data[filtered_data['sex'] == sex]\n",
    "    if target is not None:\n",
    "        filtered_data = filtered_data[filtered_data['target'] == target]\n",
    "    \n",
    "    # Scatter plot\n",
    "    scatter_fig = px.scatter(\n",
    "        filtered_data,\n",
    "        x='age',\n",
    "        y='thalach',\n",
    "        color='target',\n",
    "        title=\"Age vs. Max Heart Rate (thalach)\",\n",
    "        labels={'thalach': 'Max Heart Rate', 'age': 'Age'}\n",
    "    )\n",
    "    \n",
    "    # Histogram\n",
    "    hist_fig = px.histogram(\n",
    "        filtered_data,\n",
    "        x='cp',\n",
    "        color='target',\n",
    "        barmode='group',\n",
    "        title=\"Chest Pain Type Distribution\",\n",
    "        labels={'cp': 'Chest Pain Type'}\n",
    "    )\n",
    "    \n",
    "    return scatter_fig, hist_fig\n"
   ]
  },
  {
   "cell_type": "code",
   "execution_count": 8,
   "id": "6d34a6e6-7def-4097-bbda-cf6d277c04cc",
   "metadata": {},
   "outputs": [
    {
     "data": {
      "text/html": [
       "\n",
       "        <iframe\n",
       "            width=\"100%\"\n",
       "            height=\"650\"\n",
       "            src=\"http://127.0.0.1:8050/\"\n",
       "            frameborder=\"0\"\n",
       "            allowfullscreen\n",
       "            \n",
       "        ></iframe>\n",
       "        "
      ],
      "text/plain": [
       "<IPython.lib.display.IFrame at 0x108444510>"
      ]
     },
     "metadata": {},
     "output_type": "display_data"
    }
   ],
   "source": [
    "if __name__ == '__main__':\n",
    "    app.run_server(debug=True)"
   ]
  }
 ],
 "metadata": {
  "kernelspec": {
   "display_name": "Python 3 (ipykernel)",
   "language": "python",
   "name": "python3"
  },
  "language_info": {
   "codemirror_mode": {
    "name": "ipython",
    "version": 3
   },
   "file_extension": ".py",
   "mimetype": "text/x-python",
   "name": "python",
   "nbconvert_exporter": "python",
   "pygments_lexer": "ipython3",
   "version": "3.11.5"
  }
 },
 "nbformat": 4,
 "nbformat_minor": 5
}
